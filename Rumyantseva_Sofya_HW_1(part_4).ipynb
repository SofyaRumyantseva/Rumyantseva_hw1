{
  "nbformat": 4,
  "nbformat_minor": 0,
  "metadata": {
    "kernelspec": {
      "display_name": "Python 3 (ipykernel)",
      "language": "python",
      "name": "python3"
    },
    "language_info": {
      "codemirror_mode": {
        "name": "ipython",
        "version": 3
      },
      "file_extension": ".py",
      "mimetype": "text/x-python",
      "name": "python",
      "nbconvert_exporter": "python",
      "pygments_lexer": "ipython3",
      "version": "3.8.6"
    },
    "colab": {
      "name": "Румянцева_Софья_HW-1 (copy)",
      "provenance": [],
      "collapsed_sections": []
    }
  },
  "cells": [
    {
      "cell_type": "markdown",
      "metadata": {
        "id": "1BZBCk5mmB-0"
      },
      "source": [
        "# Домашнее задание №1 (25 баллов)\n",
        "\n",
        "## дедлайн 19 сентября 23:59\n",
        "\n",
        "\n",
        "\n",
        "Цель:\n",
        "\n",
        "Отработать навыки работы с основными типами данных в Python."
      ]
    },
    {
      "cell_type": "markdown",
      "metadata": {
        "id": "LZn14yIamB-4"
      },
      "source": [
        "**NB!** Задания необходимо выполнять таким образом, что переменную/-ые можно было заменить на схожее слово/число/текст/список/и т.д., при этом задание все равно выполнялось бы верно."
      ]
    },
    {
      "cell_type": "markdown",
      "metadata": {
        "id": "rXWlFw-wmB-5"
      },
      "source": [
        "_Оценку 9 или 10 можно получить, если выполнить домашнее задание до 16 сентября 18:10 (бонусное задание в т.ч.)_"
      ]
    },
    {
      "cell_type": "markdown",
      "metadata": {
        "id": "Zz7zK33DmB-6"
      },
      "source": [
        "### Часть 1. Переменные, арифметические операции (7 баллов)"
      ]
    },
    {
      "cell_type": "markdown",
      "metadata": {
        "id": "-p1ThRvGmB-7"
      },
      "source": [
        "1. (1 балл) Создайте две переменные $a$ и $b$ и присвойте им значение $91$ и $-12$, соответственно.\n",
        "Какой тип имеют эти переменные?"
      ]
    },
    {
      "cell_type": "code",
      "metadata": {
        "id": "pEXH413VmB-7",
        "colab": {
          "base_uri": "https://localhost:8080/"
        },
        "outputId": "b4ebb0e1-9a4b-4974-ff53-f1eb4e113d17"
      },
      "source": [
        "a = 91\n",
        "b = -12\n",
        "print(type(a))\n",
        "print(type(b))"
      ],
      "execution_count": null,
      "outputs": [
        {
          "output_type": "stream",
          "name": "stdout",
          "text": [
            "<class 'int'>\n",
            "<class 'int'>\n"
          ]
        }
      ]
    },
    {
      "cell_type": "markdown",
      "metadata": {
        "id": "7uvknJ4xmB-9"
      },
      "source": [
        "2. (1 балл) Посчитайте:\n",
        "\n",
        "    * разность a - b\n",
        "\n",
        "    * сумму a + b"
      ]
    },
    {
      "cell_type": "code",
      "metadata": {
        "id": "opg4FgsCmB--",
        "colab": {
          "base_uri": "https://localhost:8080/"
        },
        "outputId": "493a1f7f-7fbb-48c1-e0d7-13fae6dead7b"
      },
      "source": [
        "print(a-b)\n",
        "print(a+b)"
      ],
      "execution_count": null,
      "outputs": [
        {
          "output_type": "stream",
          "name": "stdout",
          "text": [
            "103\n",
            "79\n"
          ]
        }
      ]
    },
    {
      "cell_type": "markdown",
      "metadata": {
        "id": "FLU2CwhwmB-_"
      },
      "source": [
        "3. (1 балл) Вводится целое неотрицательное число $N$. Выведите $2$ в степени $N$."
      ]
    },
    {
      "cell_type": "code",
      "metadata": {
        "id": "8vymxnC6mB_B",
        "colab": {
          "base_uri": "https://localhost:8080/"
        },
        "outputId": "e9fa836f-9e1f-4b89-f931-f75a82a5dfd9"
      },
      "source": [
        "N = 3\n",
        "print(2**N)"
      ],
      "execution_count": null,
      "outputs": [
        {
          "output_type": "stream",
          "name": "stdout",
          "text": [
            "8\n"
          ]
        }
      ]
    },
    {
      "cell_type": "markdown",
      "metadata": {
        "id": "lDcZPjHHmB_B"
      },
      "source": [
        "4. (1 балл) Пётр Иванович хочет испечь большую печеньку. У него есть форма для выпечки диаметром $45$ сантиметров и высотой $5$ сантиметров. Посчитайте, какого объема будет печенька Петра Ивановича. Результат положите в переменную `area_of_circle`"
      ]
    },
    {
      "cell_type": "code",
      "metadata": {
        "id": "qv8YxoZomB_B"
      },
      "source": [
        "# your code here"
      ],
      "execution_count": null,
      "outputs": []
    },
    {
      "cell_type": "markdown",
      "metadata": {
        "id": "Kd1PBPY3mB_C"
      },
      "source": [
        "5. (1 балл) Белочки делят между собой орешки. Если орешки поровну не делятся, остаток остается в дупле. Напишите программу, которая принимает количество белочек и орешков, а на выходе дает число орешков, которое получит каждая белочка."
      ]
    },
    {
      "cell_type": "code",
      "metadata": {
        "id": "r6WzKLwHmB_C",
        "colab": {
          "base_uri": "https://localhost:8080/"
        },
        "outputId": "9379cc4c-a468-4639-834d-6e5fffb45409"
      },
      "source": [
        "s = int(input())\n",
        "n = int(input())\n",
        "x = n//s\n",
        "print(x)"
      ],
      "execution_count": null,
      "outputs": [
        {
          "output_type": "stream",
          "name": "stdout",
          "text": [
            "2\n",
            "6\n",
            "3\n"
          ]
        }
      ]
    },
    {
      "cell_type": "markdown",
      "metadata": {
        "id": "Y6jGfqvHmB_D"
      },
      "source": [
        "6. (1 балл) Напишите программу, которая считывает два целых числа $a$ и $b$ и выводит наибольшее значение из них (без использования условий)."
      ]
    },
    {
      "cell_type": "code",
      "metadata": {
        "id": "b23VAe67mB_D",
        "colab": {
          "base_uri": "https://localhost:8080/"
        },
        "outputId": "5194ad3a-e768-4516-f9f2-b364189c5b36"
      },
      "source": [
        "a = int(input())\n",
        "b = int(input())\n",
        "x = max(a, b)\n",
        "print(x)"
      ],
      "execution_count": null,
      "outputs": [
        {
          "output_type": "stream",
          "name": "stdout",
          "text": [
            "5\n",
            "7\n",
            "7\n"
          ]
        }
      ]
    },
    {
      "cell_type": "markdown",
      "metadata": {
        "id": "zWtzW4jDmB_D"
      },
      "source": [
        "7. (1 балла) Получите с помощью функции `input()` строку с числом и приведите число в тип `float`. Полученное число присвойте переменной `float_number`"
      ]
    },
    {
      "cell_type": "code",
      "metadata": {
        "id": "eWjtF4OtmB_D",
        "colab": {
          "base_uri": "https://localhost:8080/"
        },
        "outputId": "c3ffa810-30e4-4853-adfb-290d621e2dda"
      },
      "source": [
        "x = input()\n",
        "float_number = print(float(x))"
      ],
      "execution_count": null,
      "outputs": [
        {
          "output_type": "stream",
          "name": "stdout",
          "text": [
            "6\n",
            "6.0\n"
          ]
        }
      ]
    },
    {
      "cell_type": "markdown",
      "metadata": {
        "id": "5fQg1mzemB_E"
      },
      "source": [
        "### Часть 2. Строки (5 баллов)"
      ]
    },
    {
      "cell_type": "markdown",
      "metadata": {
        "id": "S8061OxKmB_E"
      },
      "source": [
        "8. (1 балл) Используйте на переменную со значением hello методы строк:\n",
        "\n",
        "`.capitalize()`\n",
        "\n",
        "`.lower()`\n",
        "\n",
        "`.upper()`\n",
        "\n",
        "Опишите что они делают в комментарии (пишите ответ как комментарий к пустой строке)"
      ]
    },
    {
      "cell_type": "code",
      "metadata": {
        "id": "m1gi2raAmB_E",
        "colab": {
          "base_uri": "https://localhost:8080/"
        },
        "outputId": "18a1e5b2-33c8-4d69-9f7d-ad651fcec817"
      },
      "source": [
        "x = \"hello\"\n",
        "print(x.capitalize()) # переводит первую букву в верхний регистр\n",
        "print(x.lower()) # переводит всю строку в нижний регистр\n",
        "print(x.upper()) #переводит всю строку в верхний регистр"
      ],
      "execution_count": null,
      "outputs": [
        {
          "output_type": "stream",
          "name": "stdout",
          "text": [
            "Hello\n",
            "hello\n",
            "HELLO\n"
          ]
        }
      ]
    },
    {
      "cell_type": "markdown",
      "metadata": {
        "id": "BdWRgXKpmB_F"
      },
      "source": [
        "9. (1 балл) Создайте две переменные типа `str` (строка) со значениями hello и world (например s1 и s2). Сложите их и напечатайте результат."
      ]
    },
    {
      "cell_type": "code",
      "metadata": {
        "id": "YJhjtMwBmB_F",
        "colab": {
          "base_uri": "https://localhost:8080/"
        },
        "outputId": "109d97f8-6ba7-40f1-f2a1-d65ad15f98d0"
      },
      "source": [
        "s1 = \"hello\"\n",
        "s2 = \"world\"\n",
        "print(s1 + s2)"
      ],
      "execution_count": null,
      "outputs": [
        {
          "output_type": "stream",
          "name": "stdout",
          "text": [
            "helloworld\n"
          ]
        }
      ]
    },
    {
      "cell_type": "markdown",
      "metadata": {
        "id": "SA3QW6AGmB_F"
      },
      "source": [
        "10. (1 балл)\n",
        "\n",
        "    - Воспользуйтесь функцией `len()` для того чтобы посчитать длину (количество **символов**) детской песни Солнечный круг \n",
        "    - Посчитайте длину (количество символов) в песне Let it be\n",
        "    - Какая из песен длиннее и на сколько **символов**?\n",
        "\n",
        "_Hint: тексты обеих песен приведены ниже._\n",
        "\n",
        "_Hint 2: `len()` это не метод, а функция_"
      ]
    },
    {
      "cell_type": "code",
      "metadata": {
        "id": "5-uezdnhmB_F"
      },
      "source": [
        "sun_circle  = '''Солнечный круг, небо вокруг\n",
        "Это рисунок мальчишки\n",
        "Нарисовал он на листке\n",
        "И подписал в уголке\n",
        "Пусть всегда будет солнце\n",
        "Пусть всегда будет небо\n",
        "Пусть всегда будет мама\n",
        "Пусть всегда буду я\n",
        "Пусть всегда будет солнце\n",
        "Пусть всегда будет небо\n",
        "Пусть всегда будет мама\n",
        "Пусть всегда буду я\n",
        "Милый мой друг, добрый мой друг\n",
        "Людям так хочется мира\n",
        "И в тридцать пять сердце опять\n",
        "Не устаёт повторять\n",
        "Пусть всегда будет солнце\n",
        "Пусть всегда будет небо\n",
        "Пусть всегда будет мама\n",
        "Пусть всегда буду я\n",
        "Пусть всегда будет солнце\n",
        "Пусть всегда будет небо\n",
        "Пусть всегда будет мама\n",
        "Пусть всегда буду я\n",
        "Тише солдат, слышишь солдат\n",
        "Люди пугаются взрывов\n",
        "Тысячи глаз в небо глядят\n",
        "Губы упрямо твердят\n",
        "Пусть всегда будет солнце\n",
        "Пусть всегда будет небо\n",
        "Пусть всегда будет мама\n",
        "Пусть всегда буду я\n",
        "Пусть всегда будет солнце\n",
        "Пусть всегда будет небо\n",
        "Пусть всегда будет мама\n",
        "Пусть всегда буду я\n",
        "Против беды, против войны\n",
        "Станем за наших мальчишек\n",
        "Солнце навек, счастье навек\n",
        "Так повелел человек\n",
        "Пусть всегда будет солнце\n",
        "Пусть всегда будет небо\n",
        "Пусть всегда будет мама\n",
        "Пусть всегда буду я\n",
        "Пусть всегда будет солнце\n",
        "Пусть всегда будет небо\n",
        "Пусть всегда будет мама\n",
        "Пусть всегда буду я'''\n",
        "\n",
        "\n",
        "let_it_be = '''\n",
        "When I find myself in times of trouble, Mother Mary comes to me\n",
        "Speaking words of wisdom, let it be\n",
        "And in my hour of darkness she is standing right in front of me\n",
        "Speaking words of wisdom, let it be\n",
        "Let it be, let it be, let it be, let it be\n",
        "Whisper words of wisdom, let it be\n",
        "And when the broken-hearted people living in the world agree\n",
        "There will be an answer, let it be\n",
        "For though they may be parted, there is still a chance that they will see\n",
        "There will be an answer, let it be\n",
        "Let it be, let it be, let it be, let it be\n",
        "Yeah, there will be an answer, let it be\n",
        "Let it be, let it be, let it be, let it be\n",
        "Whisper words of wisdom, let it be\n",
        "Let it be, let it be, let it be, yeah, let it be\n",
        "Whisper words of wisdom, let it be\n",
        "And when the night is cloudy there is still a light that shines on me\n",
        "Shine until tomorrow, let it be\n",
        "I wake up to the sound of music, Mother Mary comes to me\n",
        "Speaking words of wisdom, let it be\n",
        "Let it be, let it be, let it be, yeah, let it be\n",
        "There will be an answer, let it be\n",
        "Let it be, let it be, let it be, yeah, let it be\n",
        "There will be an answer, let it be\n",
        "Let it be, let it be, let it be, yeah, let it be\n",
        "Whisper words of wisdom, let it be\n",
        "'''"
      ],
      "execution_count": null,
      "outputs": []
    },
    {
      "cell_type": "code",
      "metadata": {
        "id": "efgy27aOmB_G"
      },
      "source": [
        "line = ['sun_circle', 'let_it_be']\n",
        "x = max(line, key=len)\n",
        "y = min(line, key=len)"
      ],
      "execution_count": null,
      "outputs": []
    },
    {
      "cell_type": "markdown",
      "metadata": {
        "id": "TMfNQBnimB_H"
      },
      "source": [
        "11. (2 балла)\n",
        "\n",
        "    - Чего больше: слов \"Пусть всегда\" в детской песне или слов \"Let it be\" в песне ливерпульской четверки?\n",
        "\n",
        "*Hint: Воспользуйтесь методом `.count()`*\n",
        "\n",
        "*Hint 2: Слова \"Let it be\" встречаются в песне как с заглавной, так и со строчной буквы, учтите это при подсчете*"
      ]
    },
    {
      "cell_type": "code",
      "metadata": {
        "id": "M20HoMm_mB_H",
        "colab": {
          "base_uri": "https://localhost:8080/"
        },
        "outputId": "3405ff88-6acb-4cb0-85ce-3ad9e73962ff"
      },
      "source": [
        "print(sun_circle.count('Пусть всегда'))\n",
        "x = let_it_be\n",
        "x.lower()\n",
        "print(x.count('let it be'))"
      ],
      "execution_count": null,
      "outputs": [
        {
          "output_type": "stream",
          "name": "stdout",
          "text": [
            "32\n",
            "34\n"
          ]
        }
      ]
    },
    {
      "cell_type": "markdown",
      "metadata": {
        "id": "_RpGCxj3mB_H"
      },
      "source": [
        "### Часть 3. Условия (5 баллов)"
      ]
    },
    {
      "cell_type": "markdown",
      "metadata": {
        "id": "gwBLQuKJmB_H"
      },
      "source": [
        "12. (1 балл) Дано целое число $x$. Проверить, является ли число положительным."
      ]
    },
    {
      "cell_type": "code",
      "metadata": {
        "id": "4rzLvWy_mB_H",
        "colab": {
          "base_uri": "https://localhost:8080/"
        },
        "outputId": "bf10a2a7-eef1-4716-e624-cf4cbc43a3dc"
      },
      "source": [
        "x = 10\n",
        "if x > 0:\n",
        "    print('positive')\n",
        "if x < 0:\n",
        "    print('negative')"
      ],
      "execution_count": null,
      "outputs": [
        {
          "output_type": "stream",
          "name": "stdout",
          "text": [
            "positive\n"
          ]
        }
      ]
    },
    {
      "cell_type": "markdown",
      "metadata": {
        "id": "uFWvoRNEmB_I"
      },
      "source": [
        "13. (1 балл) Дано число $x$  типа `float` (с плавающей запятой). Проверить, является ли это число целым.\n",
        "\n",
        "_Hint: можно загуглить 'преобразование типов, python'_"
      ]
    },
    {
      "cell_type": "code",
      "metadata": {
        "id": "g2IM_prJmB_I",
        "colab": {
          "base_uri": "https://localhost:8080/"
        },
        "outputId": "0078fa21-4fa6-43d4-b781-29f886874eb7"
      },
      "source": [
        "x = input()\n",
        "if type(x) == int:\n",
        "    print('int')\n",
        "else:\n",
        "    print('float')"
      ],
      "execution_count": null,
      "outputs": [
        {
          "output_type": "stream",
          "name": "stdout",
          "text": [
            "5,8\n",
            "float\n"
          ]
        }
      ]
    },
    {
      "cell_type": "markdown",
      "metadata": {
        "id": "vcZ6JpcVmB_I"
      },
      "source": [
        "14. (1 балл) Напишите программу, которая считывает два целых числа $a$ и $b$ и выводит наибольшее значение из них (c использованием условий)."
      ]
    },
    {
      "cell_type": "code",
      "metadata": {
        "id": "q048UQ-JmB_I",
        "colab": {
          "base_uri": "https://localhost:8080/"
        },
        "outputId": "316bfa6a-c284-4314-c0bd-5f8465b95df6"
      },
      "source": [
        "a = int(input())\n",
        "b = int(input())\n",
        "if a > b:\n",
        "  print(a)\n",
        "else:\n",
        "  print(b)"
      ],
      "execution_count": null,
      "outputs": [
        {
          "output_type": "stream",
          "name": "stdout",
          "text": [
            "-7\n",
            "8\n",
            "8\n"
          ]
        }
      ]
    },
    {
      "cell_type": "markdown",
      "metadata": {
        "id": "K8VW6Bs0mB_I"
      },
      "source": [
        "15. (1 балл) Вася уехал учиться по обмену на один семестр в Италию. Единственный магазин в городе открыт с $6$ до $8$ утра и с $16$ до $17$ вечера (включительно). Вася не мог попасть в магазин уже несколько дней и страдает от голода. Он может прийти в магазин в $X$ часов. Если магазин открыт в $X$ часов, то выведите `True`, а если закрыт - выведите `False`."
      ]
    },
    {
      "cell_type": "code",
      "metadata": {
        "id": "Y48nxNQ0mB_I",
        "colab": {
          "base_uri": "https://localhost:8080/"
        },
        "outputId": "fa6771e5-38a9-4140-ed6b-a198f2598903"
      },
      "source": [
        "x = int(input())\n",
        "if (((x >= 6) and (x <= 8)) or ((x >= 16) and (x <= 17))):\n",
        "    print('true')\n",
        "else:\n",
        "    print('false')"
      ],
      "execution_count": null,
      "outputs": [
        {
          "output_type": "stream",
          "name": "stdout",
          "text": [
            "7\n",
            "true\n"
          ]
        }
      ]
    },
    {
      "cell_type": "markdown",
      "metadata": {
        "id": "-InnK0GLmB_J"
      },
      "source": [
        "16. (1 балл) Помогите Даше определить, является ли год с данным номером високосным. Если год является високосным, то выведите `YES`, иначе выведите `NO`. Напомним, что в соответствии с григорианским календарем, год является високосным, если его номер кратен 4, но не кратен 100, а также если он кратен 400."
      ]
    },
    {
      "cell_type": "code",
      "metadata": {
        "id": "SzzJTS-EmB_J",
        "colab": {
          "base_uri": "https://localhost:8080/"
        },
        "outputId": "264283fd-4e10-4591-9a1b-e7a9ba2cf5c0"
      },
      "source": [
        "x = int(input())\n",
        "if ((x % 4 == 0) and (x % 100 != 0) or (x % 400 == 0)):\n",
        "  print('YES')\n",
        "else:\n",
        "  print('NO')"
      ],
      "execution_count": null,
      "outputs": [
        {
          "output_type": "stream",
          "name": "stdout",
          "text": [
            "801\n",
            "NO\n"
          ]
        }
      ]
    },
    {
      "cell_type": "markdown",
      "metadata": {
        "id": "f4mtffw3mB_J"
      },
      "source": [
        "### Часть 4. Циклы (6 баллов)"
      ]
    },
    {
      "cell_type": "markdown",
      "metadata": {
        "id": "pko9TzIXmB_J"
      },
      "source": [
        "17. (1 балл) Напишите бесконечный цикл (любой)"
      ]
    },
    {
      "cell_type": "code",
      "metadata": {
        "id": "gLKGsTa8mB_J",
        "colab": {
          "base_uri": "https://localhost:8080/",
          "height": 524
        },
        "outputId": "17f5b432-727c-4eaf-caf8-27a647adcd81"
      },
      "source": [
        "x = 1\n",
        "while x == 1:\n",
        "  y = input('Сколько сейчас времени?')\n",
        "  print(\"Уже\", y)"
      ],
      "execution_count": 2,
      "outputs": [
        {
          "output_type": "error",
          "ename": "KeyboardInterrupt",
          "evalue": "ignored",
          "traceback": [
            "\u001b[0;31m---------------------------------------------------------------------------\u001b[0m",
            "\u001b[0;31mKeyboardInterrupt\u001b[0m                         Traceback (most recent call last)",
            "\u001b[0;32m/usr/local/lib/python3.7/dist-packages/ipykernel/kernelbase.py\u001b[0m in \u001b[0;36m_input_request\u001b[0;34m(self, prompt, ident, parent, password)\u001b[0m\n\u001b[1;32m    728\u001b[0m             \u001b[0;32mtry\u001b[0m\u001b[0;34m:\u001b[0m\u001b[0;34m\u001b[0m\u001b[0;34m\u001b[0m\u001b[0m\n\u001b[0;32m--> 729\u001b[0;31m                 \u001b[0mident\u001b[0m\u001b[0;34m,\u001b[0m \u001b[0mreply\u001b[0m \u001b[0;34m=\u001b[0m \u001b[0mself\u001b[0m\u001b[0;34m.\u001b[0m\u001b[0msession\u001b[0m\u001b[0;34m.\u001b[0m\u001b[0mrecv\u001b[0m\u001b[0;34m(\u001b[0m\u001b[0mself\u001b[0m\u001b[0;34m.\u001b[0m\u001b[0mstdin_socket\u001b[0m\u001b[0;34m,\u001b[0m \u001b[0;36m0\u001b[0m\u001b[0;34m)\u001b[0m\u001b[0;34m\u001b[0m\u001b[0;34m\u001b[0m\u001b[0m\n\u001b[0m\u001b[1;32m    730\u001b[0m             \u001b[0;32mexcept\u001b[0m \u001b[0mException\u001b[0m\u001b[0;34m:\u001b[0m\u001b[0;34m\u001b[0m\u001b[0;34m\u001b[0m\u001b[0m\n",
            "\u001b[0;32m/usr/local/lib/python3.7/dist-packages/jupyter_client/session.py\u001b[0m in \u001b[0;36mrecv\u001b[0;34m(self, socket, mode, content, copy)\u001b[0m\n\u001b[1;32m    802\u001b[0m         \u001b[0;32mtry\u001b[0m\u001b[0;34m:\u001b[0m\u001b[0;34m\u001b[0m\u001b[0;34m\u001b[0m\u001b[0m\n\u001b[0;32m--> 803\u001b[0;31m             \u001b[0mmsg_list\u001b[0m \u001b[0;34m=\u001b[0m \u001b[0msocket\u001b[0m\u001b[0;34m.\u001b[0m\u001b[0mrecv_multipart\u001b[0m\u001b[0;34m(\u001b[0m\u001b[0mmode\u001b[0m\u001b[0;34m,\u001b[0m \u001b[0mcopy\u001b[0m\u001b[0;34m=\u001b[0m\u001b[0mcopy\u001b[0m\u001b[0;34m)\u001b[0m\u001b[0;34m\u001b[0m\u001b[0;34m\u001b[0m\u001b[0m\n\u001b[0m\u001b[1;32m    804\u001b[0m         \u001b[0;32mexcept\u001b[0m \u001b[0mzmq\u001b[0m\u001b[0;34m.\u001b[0m\u001b[0mZMQError\u001b[0m \u001b[0;32mas\u001b[0m \u001b[0me\u001b[0m\u001b[0;34m:\u001b[0m\u001b[0;34m\u001b[0m\u001b[0;34m\u001b[0m\u001b[0m\n",
            "\u001b[0;32m/usr/local/lib/python3.7/dist-packages/zmq/sugar/socket.py\u001b[0m in \u001b[0;36mrecv_multipart\u001b[0;34m(self, flags, copy, track)\u001b[0m\n\u001b[1;32m    624\u001b[0m         \"\"\"\n\u001b[0;32m--> 625\u001b[0;31m         \u001b[0mparts\u001b[0m \u001b[0;34m=\u001b[0m \u001b[0;34m[\u001b[0m\u001b[0mself\u001b[0m\u001b[0;34m.\u001b[0m\u001b[0mrecv\u001b[0m\u001b[0;34m(\u001b[0m\u001b[0mflags\u001b[0m\u001b[0;34m,\u001b[0m \u001b[0mcopy\u001b[0m\u001b[0;34m=\u001b[0m\u001b[0mcopy\u001b[0m\u001b[0;34m,\u001b[0m \u001b[0mtrack\u001b[0m\u001b[0;34m=\u001b[0m\u001b[0mtrack\u001b[0m\u001b[0;34m)\u001b[0m\u001b[0;34m]\u001b[0m\u001b[0;34m\u001b[0m\u001b[0;34m\u001b[0m\u001b[0m\n\u001b[0m\u001b[1;32m    626\u001b[0m         \u001b[0;31m# have first part already, only loop while more to receive\u001b[0m\u001b[0;34m\u001b[0m\u001b[0;34m\u001b[0m\u001b[0;34m\u001b[0m\u001b[0m\n",
            "\u001b[0;32mzmq/backend/cython/socket.pyx\u001b[0m in \u001b[0;36mzmq.backend.cython.socket.Socket.recv\u001b[0;34m()\u001b[0m\n",
            "\u001b[0;32mzmq/backend/cython/socket.pyx\u001b[0m in \u001b[0;36mzmq.backend.cython.socket.Socket.recv\u001b[0;34m()\u001b[0m\n",
            "\u001b[0;32mzmq/backend/cython/socket.pyx\u001b[0m in \u001b[0;36mzmq.backend.cython.socket._recv_copy\u001b[0;34m()\u001b[0m\n",
            "\u001b[0;32m/usr/local/lib/python3.7/dist-packages/zmq/backend/cython/checkrc.pxd\u001b[0m in \u001b[0;36mzmq.backend.cython.checkrc._check_rc\u001b[0;34m()\u001b[0m\n",
            "\u001b[0;31mKeyboardInterrupt\u001b[0m: ",
            "\nDuring handling of the above exception, another exception occurred:\n",
            "\u001b[0;31mKeyboardInterrupt\u001b[0m                         Traceback (most recent call last)",
            "\u001b[0;32m<ipython-input-2-de67ec5268ac>\u001b[0m in \u001b[0;36m<module>\u001b[0;34m()\u001b[0m\n\u001b[1;32m      1\u001b[0m \u001b[0mx\u001b[0m \u001b[0;34m=\u001b[0m \u001b[0;36m1\u001b[0m\u001b[0;34m\u001b[0m\u001b[0;34m\u001b[0m\u001b[0m\n\u001b[1;32m      2\u001b[0m \u001b[0;32mwhile\u001b[0m \u001b[0mx\u001b[0m \u001b[0;34m==\u001b[0m \u001b[0;36m1\u001b[0m\u001b[0;34m:\u001b[0m\u001b[0;34m\u001b[0m\u001b[0;34m\u001b[0m\u001b[0m\n\u001b[0;32m----> 3\u001b[0;31m   \u001b[0my\u001b[0m \u001b[0;34m=\u001b[0m \u001b[0minput\u001b[0m\u001b[0;34m(\u001b[0m\u001b[0;34m'Сколько сейчас времени?'\u001b[0m\u001b[0;34m)\u001b[0m\u001b[0;34m\u001b[0m\u001b[0;34m\u001b[0m\u001b[0m\n\u001b[0m\u001b[1;32m      4\u001b[0m   \u001b[0mprint\u001b[0m\u001b[0;34m(\u001b[0m\u001b[0;34m\"Уже\"\u001b[0m\u001b[0;34m,\u001b[0m \u001b[0my\u001b[0m\u001b[0;34m)\u001b[0m\u001b[0;34m\u001b[0m\u001b[0;34m\u001b[0m\u001b[0m\n",
            "\u001b[0;32m/usr/local/lib/python3.7/dist-packages/ipykernel/kernelbase.py\u001b[0m in \u001b[0;36mraw_input\u001b[0;34m(self, prompt)\u001b[0m\n\u001b[1;32m    702\u001b[0m             \u001b[0mself\u001b[0m\u001b[0;34m.\u001b[0m\u001b[0m_parent_ident\u001b[0m\u001b[0;34m,\u001b[0m\u001b[0;34m\u001b[0m\u001b[0;34m\u001b[0m\u001b[0m\n\u001b[1;32m    703\u001b[0m             \u001b[0mself\u001b[0m\u001b[0;34m.\u001b[0m\u001b[0m_parent_header\u001b[0m\u001b[0;34m,\u001b[0m\u001b[0;34m\u001b[0m\u001b[0;34m\u001b[0m\u001b[0m\n\u001b[0;32m--> 704\u001b[0;31m             \u001b[0mpassword\u001b[0m\u001b[0;34m=\u001b[0m\u001b[0;32mFalse\u001b[0m\u001b[0;34m,\u001b[0m\u001b[0;34m\u001b[0m\u001b[0;34m\u001b[0m\u001b[0m\n\u001b[0m\u001b[1;32m    705\u001b[0m         )\n\u001b[1;32m    706\u001b[0m \u001b[0;34m\u001b[0m\u001b[0m\n",
            "\u001b[0;32m/usr/local/lib/python3.7/dist-packages/ipykernel/kernelbase.py\u001b[0m in \u001b[0;36m_input_request\u001b[0;34m(self, prompt, ident, parent, password)\u001b[0m\n\u001b[1;32m    732\u001b[0m             \u001b[0;32mexcept\u001b[0m \u001b[0mKeyboardInterrupt\u001b[0m\u001b[0;34m:\u001b[0m\u001b[0;34m\u001b[0m\u001b[0;34m\u001b[0m\u001b[0m\n\u001b[1;32m    733\u001b[0m                 \u001b[0;31m# re-raise KeyboardInterrupt, to truncate traceback\u001b[0m\u001b[0;34m\u001b[0m\u001b[0;34m\u001b[0m\u001b[0;34m\u001b[0m\u001b[0m\n\u001b[0;32m--> 734\u001b[0;31m                 \u001b[0;32mraise\u001b[0m \u001b[0mKeyboardInterrupt\u001b[0m\u001b[0;34m\u001b[0m\u001b[0;34m\u001b[0m\u001b[0m\n\u001b[0m\u001b[1;32m    735\u001b[0m             \u001b[0;32melse\u001b[0m\u001b[0;34m:\u001b[0m\u001b[0;34m\u001b[0m\u001b[0;34m\u001b[0m\u001b[0m\n\u001b[1;32m    736\u001b[0m                 \u001b[0;32mbreak\u001b[0m\u001b[0;34m\u001b[0m\u001b[0;34m\u001b[0m\u001b[0m\n",
            "\u001b[0;31mKeyboardInterrupt\u001b[0m: "
          ]
        }
      ]
    },
    {
      "cell_type": "markdown",
      "metadata": {
        "id": "-h3ust4dmB_J"
      },
      "source": [
        "18. (1 балл) Вывести числа от 5 до 20"
      ]
    },
    {
      "cell_type": "code",
      "metadata": {
        "id": "KGbI7mlkmB_J",
        "colab": {
          "base_uri": "https://localhost:8080/"
        },
        "outputId": "f0c0f9ec-f9c6-4612-b180-f9480428201b"
      },
      "source": [
        "for x in range(5, 20):\n",
        "  print(x)"
      ],
      "execution_count": 4,
      "outputs": [
        {
          "output_type": "stream",
          "name": "stdout",
          "text": [
            "5\n",
            "6\n",
            "7\n",
            "8\n",
            "9\n",
            "10\n",
            "11\n",
            "12\n",
            "13\n",
            "14\n",
            "15\n",
            "16\n",
            "17\n",
            "18\n",
            "19\n"
          ]
        }
      ]
    },
    {
      "cell_type": "markdown",
      "metadata": {
        "id": "1qX2tNEdmB_J"
      },
      "source": [
        "19. (1 балл) Вывести все числа от 5 до 20 , кратные 3-м."
      ]
    },
    {
      "cell_type": "code",
      "metadata": {
        "id": "qtN2ECZpmB_K",
        "colab": {
          "base_uri": "https://localhost:8080/"
        },
        "outputId": "23dcdd7a-4c0a-4c65-8a82-dac77c738ee7"
      },
      "source": [
        "for x in range(5, 20):\n",
        "    if (x % 3) == 0:\n",
        "        print(x)"
      ],
      "execution_count": 7,
      "outputs": [
        {
          "output_type": "stream",
          "name": "stdout",
          "text": [
            "6\n",
            "9\n",
            "12\n",
            "15\n",
            "18\n"
          ]
        }
      ]
    },
    {
      "cell_type": "markdown",
      "metadata": {
        "id": "Pfs3ZBuzmB_K"
      },
      "source": [
        "20. (1 балл) Найти сумму натуральных чисел от 0 до n включительно"
      ]
    },
    {
      "cell_type": "code",
      "metadata": {
        "id": "F933zbG6mB_K",
        "colab": {
          "base_uri": "https://localhost:8080/"
        },
        "outputId": "d403934a-e7a9-4d33-e053-ad1655d678f4"
      },
      "source": [
        "n = 11\n",
        "i = 1\n",
        "s = 0\n",
        "while i <= n:\n",
        "  s = i+s\n",
        "  i = i+1\n",
        "print('Сумма натуральных чисел от 0 до n =', s)\n"
      ],
      "execution_count": 15,
      "outputs": [
        {
          "output_type": "stream",
          "name": "stdout",
          "text": [
            "Сумма натуральных чисел от 0 до n = 66\n"
          ]
        }
      ]
    },
    {
      "cell_type": "markdown",
      "metadata": {
        "id": "Tejb6jdumB_K"
      },
      "source": [
        "21. (1 балл) Вводится последовательность цифр. Например `\"126543168714\"`. Найти самую большую цифру, сохранить в переменную `largest_number`, вывести ее значение на экран."
      ]
    },
    {
      "cell_type": "code",
      "metadata": {
        "id": "98j-rp2GmB_K",
        "colab": {
          "base_uri": "https://localhost:8080/"
        },
        "outputId": "353a1526-c9c5-41e2-a8ee-33d522755914"
      },
      "source": [
        "x = list('126543168714')\n",
        "largest_number = max(x)\n",
        "print(largest_number)"
      ],
      "execution_count": 25,
      "outputs": [
        {
          "output_type": "stream",
          "name": "stdout",
          "text": [
            "8\n"
          ]
        }
      ]
    },
    {
      "cell_type": "markdown",
      "metadata": {
        "id": "SfqQonqrmB_K"
      },
      "source": [
        "22. (1 балл) Пользователем вводится строка. Проверить, является ли строка палиндромом без использования срезов и списков (мы их еще не проходили). Записать ответ в булевом типе данных в переменную `is_palindrom`, вывести ее значение на экран."
      ]
    },
    {
      "cell_type": "code",
      "metadata": {
        "id": "kDbNY-bWmB_K"
      },
      "source": [
        "n = 5\n",
        "\n",
        "# your code here"
      ],
      "execution_count": null,
      "outputs": []
    },
    {
      "cell_type": "markdown",
      "metadata": {
        "id": "ykzOQoYamB_K"
      },
      "source": [
        "### Бонусное задание (2 балла):"
      ]
    },
    {
      "cell_type": "markdown",
      "metadata": {
        "id": "Ao9mr74YmB_L"
      },
      "source": [
        "23. (2 балла) \n",
        "\n",
        "В турецком языке все гласные делятся на:\n",
        "\n",
        "негубные:\n",
        "`non_labials = \"aıei\"`\n",
        "\n",
        "губные:\n",
        "`labials = \"ouöü\"`\n",
        "\n",
        "Суть закона гармонии гласных состоит в следующем: все гласные в слове должны быть из одного класса.\n",
        "\n",
        "Вводится слово. Проверьте, подчиняется ли данное слово закону гармонии гласных в турецком языке. Ответ (`True` или `False`) сохранить в переменную rule и вывести ее на экран.\n",
        "\n",
        "Примеры:\n",
        "\n",
        "yaşlıdı (True)\n",
        "\n",
        "yaşlıdü (False)\n",
        "\n",
        "üzgündü (True)\n",
        "\n",
        "üzgündi (False)"
      ]
    },
    {
      "cell_type": "code",
      "metadata": {
        "id": "uD52bBHAmB_L"
      },
      "source": [
        "# your code here"
      ],
      "execution_count": null,
      "outputs": []
    },
    {
      "cell_type": "markdown",
      "metadata": {
        "id": "Z1BkJELmmB_L"
      },
      "source": [
        "#### Напишите ниже вашу обратную связь по домашнему заданию в комментарии. \n",
        "\n",
        "#### Какие задания показались вам самыми сложными / простыми? Что понравилось, а что нет?"
      ]
    },
    {
      "cell_type": "code",
      "metadata": {
        "id": "PJD14Yp_mB_L"
      },
      "source": [
        ""
      ],
      "execution_count": null,
      "outputs": []
    }
  ]
}